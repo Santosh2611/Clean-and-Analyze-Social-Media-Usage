{
  "nbformat": 4,
  "nbformat_minor": 0,
  "metadata": {
    "colab": {
      "provenance": []
    },
    "kernelspec": {
      "name": "python3",
      "display_name": "Python 3"
    },
    "language_info": {
      "name": "python"
    }
  },
  "cells": [
    {
      "cell_type": "markdown",
      "source": [
        "**Importing Libraries**: The script begins by importing necessary libraries such as `pandas`, `matplotlib.pyplot`, `numpy`, `random`, `f_oneway` from `scipy.stats`, and specific components from `sklearn` for model selection, logistic regression, and metrics."
      ],
      "metadata": {
        "id": "h6rBp5JYgouu"
      }
    },
    {
      "cell_type": "code",
      "execution_count": 1,
      "metadata": {
        "id": "2NFkirw3f1a5"
      },
      "outputs": [],
      "source": [
        "import pandas as pd\n",
        "import matplotlib.pyplot as plt\n",
        "import numpy as np\n",
        "import random\n",
        "from scipy.stats import f_oneway\n",
        "from sklearn.model_selection import train_test_split\n",
        "from sklearn.linear_model import LogisticRegression\n",
        "from sklearn.metrics import accuracy_score, classification_report"
      ]
    },
    {
      "cell_type": "markdown",
      "source": [
        "**Data Generation Function**: The `generate_random_data` function takes the number of records `n` and a list of `categories` as input to create a DataFrame with random data for Date, Category, and Likes. It returns the generated DataFrame."
      ],
      "metadata": {
        "id": "6IMSzQD3gv-b"
      }
    },
    {
      "cell_type": "code",
      "source": [
        "def generate_random_data(n, categories):\n",
        "    \"\"\"\n",
        "    Generate random data for the given number of records and categories.\n",
        "\n",
        "    Args:\n",
        "    n (int): Number of records to generate.\n",
        "    categories (list): List of categories.\n",
        "\n",
        "    Returns:\n",
        "    pandas.DataFrame: Generated random data.\n",
        "    \"\"\"\n",
        "    if not isinstance(n, int) or n <= 0:\n",
        "        raise ValueError(\"n must be a positive integer\")\n",
        "\n",
        "    # Create random data with Date, Category, and Likes\n",
        "    data = {\n",
        "        'Date': pd.date_range('2023-01-01', periods=n),\n",
        "        'Category': [random.choice(categories) for _ in range(n)],\n",
        "        'Likes': np.random.randint(0, 10000, size=n)\n",
        "    }\n",
        "    return pd.DataFrame(data)"
      ],
      "metadata": {
        "id": "oXqtUN5vg1l5"
      },
      "execution_count": 2,
      "outputs": []
    },
    {
      "cell_type": "code",
      "source": [
        "def display_dataframe_info(df):\n",
        "    \"\"\"\n",
        "    Display overview of the dataframe.\n",
        "\n",
        "    Args:\n",
        "    df (pandas.DataFrame): Input dataframe.\n",
        "    \"\"\"\n",
        "    print(\"DataFrame Overview:\")\n",
        "    print(df.head())  # Display first few rows of the dataframe\n",
        "    print(\"\\nDataset Overview:\")\n",
        "    print(df.info())  # Display dataset information"
      ],
      "metadata": {
        "id": "S9C6KjaohFLz"
      },
      "execution_count": 3,
      "outputs": []
    },
    {
      "cell_type": "markdown",
      "source": [
        "**Data Visualization Functions**:\n",
        "\n",
        "\n",
        "*   The `display_dataframe_info` function prints an overview of the DataFrame including the first few rows and dataset information.\n",
        "*   The `visualize_category_engagement` function visualizes the average likes by category using a bar plot. It checks if the DataFrame is not empty before plotting.\n",
        "\n"
      ],
      "metadata": {
        "id": "ufRUG6k1g5zL"
      }
    },
    {
      "cell_type": "code",
      "source": [
        "def visualize_category_engagement(df):\n",
        "    \"\"\"\n",
        "    Visualize average likes by category.\n",
        "\n",
        "    Args:\n",
        "    df (pandas.DataFrame): Input dataframe.\n",
        "    \"\"\"\n",
        "    if not df.empty:\n",
        "        # Calculate average likes for each category\n",
        "        avg_likes_by_category = df.groupby('Category')['Likes'].mean().sort_values()\n",
        "        plt.figure(figsize=(10, 6))  # Set figure size for the plot\n",
        "        # Create a bar plot for average likes by category\n",
        "        plt.bar(avg_likes_by_category.index, avg_likes_by_category.values, color='skyblue')\n",
        "        plt.title('Average Likes by Category')  # Set title for the plot\n",
        "        plt.xlabel('Category')  # Set label for x-axis\n",
        "        plt.ylabel('Average Likes')  # Set label for y-axis\n",
        "        plt.xticks(rotation=45)  # Rotate x-axis labels for better visibility\n",
        "        plt.show()  # Display the plot"
      ],
      "metadata": {
        "id": "Ox28fFcIhSv4"
      },
      "execution_count": 4,
      "outputs": []
    },
    {
      "cell_type": "markdown",
      "source": [
        "**Statistical Testing and Modeling Functions**:\n",
        "\n",
        "\n",
        "*   The `perform_anova_test` function performs an ANOVA test on the likes for different categories. It extracts likes for each category and then performs the ANOVA test using `f_oneway` from `scipy.stats`.\n",
        "*   The `build_logistic_regression_model` function builds and evaluates a logistic regression model. It splits the data into training and testing sets using `train_test_split` from `sklearn`, creates a Logistic Regression model, fits it to the training data, makes predictions, and displays the model accuracy and classification report.\n",
        "\n"
      ],
      "metadata": {
        "id": "4Dk74bNjkTGI"
      }
    },
    {
      "cell_type": "code",
      "source": [
        "def perform_anova_test(df, categories):\n",
        "    \"\"\"\n",
        "    Perform ANOVA test on the likes for different categories.\n",
        "\n",
        "    Args:\n",
        "    df (pandas.DataFrame): Input dataframe.\n",
        "    categories (list): List of categories.\n",
        "    \"\"\"\n",
        "    # Extract likes for each category\n",
        "    anova_data = [df[df['Category'] == cat]['Likes'] for cat in categories]\n",
        "    # Perform ANOVA test\n",
        "    anova_result = f_oneway(*anova_data)\n",
        "    print(\"\\nANOVA Test Result:\")\n",
        "    print(anova_result)  # Display ANOVA test result"
      ],
      "metadata": {
        "id": "RsjDnFZWkWgV"
      },
      "execution_count": 5,
      "outputs": []
    },
    {
      "cell_type": "code",
      "source": [
        "def build_logistic_regression_model(df):\n",
        "    \"\"\"\n",
        "    Build and evaluate a logistic regression model.\n",
        "\n",
        "    Args:\n",
        "    df (pandas.DataFrame): Input dataframe.\n",
        "    \"\"\"\n",
        "    if 'Likes' in df:\n",
        "        X, y = df[['Likes']], (df['Likes'] > df['Likes'].mean()).astype(int)\n",
        "        # Split the data into training and testing sets\n",
        "        X_train, X_test, y_train, y_test = train_test_split(X, y, test_size=0.2, random_state=42)\n",
        "\n",
        "        # Create and train a logistic regression model\n",
        "        lr_model = LogisticRegression()\n",
        "        lr_model.fit(X_train, y_train)\n",
        "        # Make predictions using the trained model\n",
        "        lr_predictions = lr_model.predict(X_test)\n",
        "\n",
        "        print(\"\\nLogistic Regression Model Accuracy:\")\n",
        "        print(accuracy_score(y_test, lr_predictions))  # Display model accuracy\n",
        "        print(\"\\nClassification Report:\")\n",
        "        print(classification_report(y_test, lr_predictions))  # Display classification report"
      ],
      "metadata": {
        "id": "SU_ZHGrokfn5"
      },
      "execution_count": 6,
      "outputs": []
    },
    {
      "cell_type": "markdown",
      "source": [
        "**Main Function**: The `main` function initializes the number of records (`n`) and categories, generates random data, displays dataframe overview, visualizes category engagement, performs ANOVA test, and builds/evaluates a logistic regression model using the previously defined functions."
      ],
      "metadata": {
        "id": "P3bYE7Kykire"
      }
    },
    {
      "cell_type": "code",
      "source": [
        "# Main function to run the analysis\n",
        "def main():\n",
        "    n = 500\n",
        "    categories = ['Food', 'Travel', 'Fashion', 'Fitness', 'Music', 'Culture', 'Family', 'Health']\n",
        "    df = generate_random_data(n, categories)  # Generate random data\n",
        "    display_dataframe_info(df)  # Display dataframe overview\n",
        "    visualize_category_engagement(df)  # Visualize average likes by category\n",
        "    perform_anova_test(df, categories)  # Perform ANOVA test\n",
        "    build_logistic_regression_model(df)  # Build and evaluate a logistic regression model"
      ],
      "metadata": {
        "id": "5EuyhMD5kmqw"
      },
      "execution_count": 7,
      "outputs": []
    },
    {
      "cell_type": "markdown",
      "source": [
        "**Execution**: Finally, the script checks if it is being run as the main program and then executes the `main` function."
      ],
      "metadata": {
        "id": "CK8MyTO1kpcq"
      }
    },
    {
      "cell_type": "code",
      "source": [
        "if __name__ == \"__main__\":\n",
        "    main()  # Execute the main function"
      ],
      "metadata": {
        "colab": {
          "base_uri": "https://localhost:8080/",
          "height": 1000
        },
        "id": "6uyZ7sEFks1K",
        "outputId": "d5766495-1d72-4b79-b355-2612a3bd6a47"
      },
      "execution_count": 8,
      "outputs": [
        {
          "output_type": "stream",
          "name": "stdout",
          "text": [
            "DataFrame Overview:\n",
            "        Date Category  Likes\n",
            "0 2023-01-01    Music   3349\n",
            "1 2023-01-02   Health   5391\n",
            "2 2023-01-03     Food   6919\n",
            "3 2023-01-04   Family   3883\n",
            "4 2023-01-05  Culture   7752\n",
            "\n",
            "Dataset Overview:\n",
            "<class 'pandas.core.frame.DataFrame'>\n",
            "RangeIndex: 500 entries, 0 to 499\n",
            "Data columns (total 3 columns):\n",
            " #   Column    Non-Null Count  Dtype         \n",
            "---  ------    --------------  -----         \n",
            " 0   Date      500 non-null    datetime64[ns]\n",
            " 1   Category  500 non-null    object        \n",
            " 2   Likes     500 non-null    int64         \n",
            "dtypes: datetime64[ns](1), int64(1), object(1)\n",
            "memory usage: 11.8+ KB\n",
            "None\n"
          ]
        },
        {
          "output_type": "display_data",
          "data": {
            "text/plain": [
              "<Figure size 1000x600 with 1 Axes>"
            ],
            "image/png": "[encoded data removed]"
          },
          "metadata": {}
        },
        {
          "output_type": "stream",
          "name": "stdout",
          "text": [
            "\n",
            "ANOVA Test Result:\n",
            "F_onewayResult(statistic=0.7316521550155842, pvalue=0.6452095470831561)\n",
            "\n",
            "Logistic Regression Model Accuracy:\n",
            "1.0\n",
            "\n",
            "Classification Report:\n",
            "              precision    recall  f1-score   support\n",
            "\n",
            "           0       1.00      1.00      1.00        48\n",
            "           1       1.00      1.00      1.00        52\n",
            "\n",
            "    accuracy                           1.00       100\n",
            "   macro avg       1.00      1.00      1.00       100\n",
            "weighted avg       1.00      1.00      1.00       100\n",
            "\n"
          ]
        }
      ]
    },
    {
      "cell_type": "markdown",
      "source": [
        "In summary, this script showcases how to generate random data, visualize data, perform statistical tests, and build a predictive model using a logistic regression algorithm. The functions are organized to perform specific tasks, making the code modular and easy to understand and maintain."
      ],
      "metadata": {
        "id": "JLuCddw2kxtr"
      }
    }
  ]
}